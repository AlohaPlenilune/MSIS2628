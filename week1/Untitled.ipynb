{
 "cells": [
  {
   "cell_type": "code",
   "execution_count": 1,
   "id": "33a46937-fc67-4983-908b-2e5c11496df0",
   "metadata": {},
   "outputs": [],
   "source": [
    "input = \"1326801,FACEBOOK INC,7370.0,\""
   ]
  },
  {
   "cell_type": "code",
   "execution_count": 3,
   "id": "ea712487-7ea5-47d4-9613-1ea09d77c5c8",
   "metadata": {},
   "outputs": [],
   "source": [
    "import re\n",
    "output = re.search('[^,]*INC', input)\n",
    "\n"
   ]
  },
  {
   "cell_type": "code",
   "execution_count": 5,
   "id": "b767b91b-b9a2-492a-bd5b-0184395d02a5",
   "metadata": {},
   "outputs": [
    {
     "data": {
      "text/plain": [
       "'FACEBOOK INC'"
      ]
     },
     "execution_count": 5,
     "metadata": {},
     "output_type": "execute_result"
    }
   ],
   "source": [
    "output[0]"
   ]
  },
  {
   "cell_type": "code",
   "execution_count": 6,
   "id": "1688e0a7-cac9-43bc-a1b2-b8146cdabcc6",
   "metadata": {},
   "outputs": [],
   "source": [
    "output_file = open('company.txt', 'w')\n",
    "output_file.write(output[0])\n",
    "output_file.close()"
   ]
  },
  {
   "cell_type": "code",
   "execution_count": null,
   "id": "ae6bffef-cddd-44de-ab16-f18e66212b11",
   "metadata": {},
   "outputs": [],
   "source": []
  }
 ],
 "metadata": {
  "kernelspec": {
   "display_name": "Python 3 (ipykernel)",
   "language": "python",
   "name": "python3"
  },
  "language_info": {
   "codemirror_mode": {
    "name": "ipython",
    "version": 3
   },
   "file_extension": ".py",
   "mimetype": "text/x-python",
   "name": "python",
   "nbconvert_exporter": "python",
   "pygments_lexer": "ipython3",
   "version": "3.9.12"
  }
 },
 "nbformat": 4,
 "nbformat_minor": 5
}
